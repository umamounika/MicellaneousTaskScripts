{
 "cells": [
  {
   "cell_type": "code",
   "execution_count": 1,
   "metadata": {},
   "outputs": [],
   "source": [
    "import csv,codecs,requests,os,pandas,numpy"
   ]
  },
  {
   "cell_type": "code",
   "execution_count": 13,
   "metadata": {},
   "outputs": [],
   "source": [
    "zipcodes_reference=pandas.read_excel(\"C:\\\\Users\\\\Umamounika.Karukonda\\\\OneDrive - Fractal Analytics Pvt. Ltd\\\\Documents\\\\Hill's\\\\US Vet Consulting\\\\Data_Files\\\\zip_codes_missing.xlsx\")"
   ]
  },
  {
   "cell_type": "code",
   "execution_count": 47,
   "metadata": {},
   "outputs": [
    {
     "ename": "KeyError",
     "evalue": "'zip_codes'",
     "output_type": "error",
     "traceback": [
      "\u001b[1;31m---------------------------------------------------------------------------\u001b[0m",
      "\u001b[1;31mKeyError\u001b[0m                                  Traceback (most recent call last)",
      "\u001b[1;32m<ipython-input-47-a4f364a118da>\u001b[0m in \u001b[0;36m<module>\u001b[1;34m\u001b[0m\n\u001b[0;32m     14\u001b[0m     \u001b[0mnearby_zipcode_url\u001b[0m\u001b[1;33m=\u001b[0m\u001b[1;34m\"https://www.zipcodeapi.com/rest/RLG4LDEHllEZc5KOBe8mvPQT7NOUmGfxbXozMo0SChCmHGIWY4PKhky9QaWYp4Vh/radius.json/\"\u001b[0m\u001b[1;33m+\u001b[0m\u001b[0mz\u001b[0m\u001b[1;33m+\u001b[0m\u001b[1;34m\"/2/kilometers?minimal\"\u001b[0m\u001b[1;33m\u001b[0m\u001b[1;33m\u001b[0m\u001b[0m\n\u001b[0;32m     15\u001b[0m     \u001b[0mdata\u001b[0m\u001b[1;33m=\u001b[0m\u001b[0mrequests\u001b[0m\u001b[1;33m.\u001b[0m\u001b[0mget\u001b[0m\u001b[1;33m(\u001b[0m\u001b[0murl\u001b[0m\u001b[1;33m=\u001b[0m\u001b[0mnearby_zipcode_url\u001b[0m\u001b[1;33m)\u001b[0m\u001b[1;33m\u001b[0m\u001b[1;33m\u001b[0m\u001b[0m\n\u001b[1;32m---> 16\u001b[1;33m     \u001b[0mdf1\u001b[0m\u001b[1;33m[\u001b[0m\u001b[1;34m\"Neighbour in 2 km radius\"\u001b[0m\u001b[1;33m]\u001b[0m\u001b[1;33m.\u001b[0m\u001b[0mappend\u001b[0m\u001b[1;33m(\u001b[0m\u001b[0mdata\u001b[0m\u001b[1;33m.\u001b[0m\u001b[0mjson\u001b[0m\u001b[1;33m(\u001b[0m\u001b[1;33m)\u001b[0m\u001b[1;33m[\u001b[0m\u001b[1;34m\"zip_codes\"\u001b[0m\u001b[1;33m]\u001b[0m\u001b[1;33m)\u001b[0m\u001b[1;33m\u001b[0m\u001b[1;33m\u001b[0m\u001b[0m\n\u001b[0m",
      "\u001b[1;31mKeyError\u001b[0m: 'zip_codes'"
     ]
    }
   ],
   "source": [
    "df1={\"Zip Codes\":[],\"Neighbour in 1 km radius\":[],\"Neighbour in 0.5 km radius\":[],\"Neighbour in 2 km radius\":[]}\n",
    "for i in zipcodes_reference[\"Zip 5\"][16:]:\n",
    "    z=str(i)\n",
    "    while len(z)< 5:\n",
    "        z='0'+z\n",
    "        \n",
    "    nearby_zipcode_url=\"https://www.zipcodeapi.com/rest/RLG4LDEHllEZc5KOBe8mvPQT7NOUmGfxbXozMo0SChCmHGIWY4PKhky9QaWYp4Vh/radius.json/\"+z+\"/1/kilometers?minimal\"\n",
    "    data=requests.get(url=nearby_zipcode_url)\n",
    "    df1[\"Zip Codes\"].append(i)\n",
    "    df1[\"Neighbour in 1 km radius\"].append(data.json()[\"zip_codes\"])\n",
    "    nearby_zipcode_url=\"https://www.zipcodeapi.com/rest/RLG4LDEHllEZc5KOBe8mvPQT7NOUmGfxbXozMo0SChCmHGIWY4PKhky9QaWYp4Vh/radius.json/\"+z+\"/0.5/kilometers?minimal\"\n",
    "    data=requests.get(url=nearby_zipcode_url)\n",
    "    df1[\"Neighbour in 0.5 km radius\"].append(data.json()[\"zip_codes\"])\n",
    "    nearby_zipcode_url=\"https://www.zipcodeapi.com/rest/RLG4LDEHllEZc5KOBe8mvPQT7NOUmGfxbXozMo0SChCmHGIWY4PKhky9QaWYp4Vh/radius.json/\"+z+\"/2/kilometers?minimal\"\n",
    "    data=requests.get(url=nearby_zipcode_url)\n",
    "    df1[\"Neighbour in 2 km radius\"].append(data.json()[\"zip_codes\"])"
   ]
  },
  {
   "cell_type": "code",
   "execution_count": 33,
   "metadata": {},
   "outputs": [
    {
     "data": {
      "text/plain": [
       "{'Zip Codes': [30018,\n",
       "  44210,\n",
       "  45063,\n",
       "  5159,\n",
       "  2040,\n",
       "  6829,\n",
       "  5670,\n",
       "  8870,\n",
       "  7978,\n",
       "  7879,\n",
       "  10959,\n",
       "  20604,\n",
       "  21528,\n",
       "  8213,\n",
       "  24739,\n",
       "  32163,\n",
       "  48175,\n",
       "  49685,\n",
       "  49696,\n",
       "  49610,\n",
       "  48061,\n",
       "  97432,\n",
       "  97003,\n",
       "  97703,\n",
       "  95221,\n",
       "  85378,\n",
       "  92317,\n",
       "  96824,\n",
       "  84129,\n",
       "  80866,\n",
       "  79073,\n",
       "  36349,\n",
       "  75033],\n",
       " 'Neighbour in 1 km radius': [['08057', '08009'],\n",
       "  ['08057', '08009'],\n",
       "  ['08057', '08009'],\n",
       "  ['08057', '08009'],\n",
       "  ['08057', '08009'],\n",
       "  ['08057', '08009'],\n",
       "  ['08057', '08009'],\n",
       "  ['08057', '08009'],\n",
       "  ['08057', '08009'],\n",
       "  ['08057', '08009'],\n",
       "  ['08057', '08009'],\n",
       "  ['08057', '08009'],\n",
       "  ['08057', '08009'],\n",
       "  ['08057', '08009'],\n",
       "  ['08057', '08009'],\n",
       "  ['08057', '08009'],\n",
       "  ['08057', '08009'],\n",
       "  ['08057', '08009'],\n",
       "  ['08057', '08009'],\n",
       "  ['08057', '08009'],\n",
       "  ['08057', '08009'],\n",
       "  ['08057', '08009'],\n",
       "  ['08057', '08009'],\n",
       "  ['08057', '08009'],\n",
       "  ['08057', '08009'],\n",
       "  ['08057', '08009'],\n",
       "  ['08057', '08009'],\n",
       "  ['08057', '08009'],\n",
       "  ['08057', '08009'],\n",
       "  ['08057', '08009'],\n",
       "  ['08057', '08009'],\n",
       "  ['08057', '08009'],\n",
       "  ['08057', '08009']],\n",
       " 'Neighbour in 0.5 km radius': [['08057', '08009'],\n",
       "  ['08057', '08009'],\n",
       "  ['08057', '08009'],\n",
       "  ['08057', '08009'],\n",
       "  ['08057', '08009'],\n",
       "  ['08057', '08009'],\n",
       "  ['08057', '08009'],\n",
       "  ['08057', '08009'],\n",
       "  ['08057', '08009'],\n",
       "  ['08057', '08009'],\n",
       "  ['08057', '08009'],\n",
       "  ['08057', '08009'],\n",
       "  ['08057', '08009'],\n",
       "  ['08057', '08009'],\n",
       "  ['08057', '08009'],\n",
       "  ['08057', '08009'],\n",
       "  ['08057', '08009'],\n",
       "  ['08057', '08009'],\n",
       "  ['08057', '08009'],\n",
       "  ['08057', '08009'],\n",
       "  ['08057', '08009'],\n",
       "  ['08057', '08009'],\n",
       "  ['08057', '08009'],\n",
       "  ['08057', '08009'],\n",
       "  ['08057', '08009'],\n",
       "  ['08057', '08009'],\n",
       "  ['08057', '08009'],\n",
       "  ['08057', '08009'],\n",
       "  ['08057', '08009'],\n",
       "  ['08057', '08009'],\n",
       "  ['08057', '08009'],\n",
       "  ['08057', '08009'],\n",
       "  ['08057', '08009']],\n",
       " 'Neighbour in 2 km radius': [['08057', '08009'],\n",
       "  ['08057', '08009'],\n",
       "  ['08057', '08009'],\n",
       "  ['08057', '08009'],\n",
       "  ['08057', '08009'],\n",
       "  ['08057', '08009'],\n",
       "  ['08057', '08009'],\n",
       "  ['08057', '08009'],\n",
       "  ['08057', '08009'],\n",
       "  ['08057', '08009'],\n",
       "  ['08057', '08009'],\n",
       "  ['08057', '08009'],\n",
       "  ['08057', '08009'],\n",
       "  ['08057', '08009'],\n",
       "  ['08057', '08009'],\n",
       "  ['08057', '08009'],\n",
       "  ['08057', '08009'],\n",
       "  ['08057', '08009'],\n",
       "  ['08057', '08009'],\n",
       "  ['08057', '08009'],\n",
       "  ['08057', '08009'],\n",
       "  ['08057', '08009'],\n",
       "  ['08057', '08009'],\n",
       "  ['08057', '08009'],\n",
       "  ['08057', '08009'],\n",
       "  ['08057', '08009'],\n",
       "  ['08057', '08009'],\n",
       "  ['08057', '08009'],\n",
       "  ['08057', '08009'],\n",
       "  ['08057', '08009'],\n",
       "  ['08057', '08009'],\n",
       "  ['08057', '08009'],\n",
       "  ['08057', '08009']]}"
      ]
     },
     "execution_count": 33,
     "metadata": {},
     "output_type": "execute_result"
    }
   ],
   "source": [
    "df1"
   ]
  },
  {
   "cell_type": "code",
   "execution_count": 35,
   "metadata": {},
   "outputs": [
    {
     "data": {
      "text/plain": [
       "'https://www.zipcodeapi.com/rest/RLG4LDEHllEZc5KOBe8mvPQT7NOUmGfxbXozMo0SChCmHGIWY4PKhky9QaWYp4Vh/radius.json/30018/1/kilometers?minimal'"
      ]
     },
     "execution_count": 35,
     "metadata": {},
     "output_type": "execute_result"
    }
   ],
   "source": [
    "nearby_zipcode_url"
   ]
  },
  {
   "cell_type": "code",
   "execution_count": 60,
   "metadata": {},
   "outputs": [],
   "source": [
    "df2=pandas.DataFrame(data=df1)"
   ]
  },
  {
   "cell_type": "code",
   "execution_count": 61,
   "metadata": {},
   "outputs": [],
   "source": [
    "df2.to_csv(\"part2.csv\",index=False)"
   ]
  }
 ],
 "metadata": {
  "kernelspec": {
   "display_name": "Python 3",
   "language": "python",
   "name": "python3"
  },
  "language_info": {
   "codemirror_mode": {
    "name": "ipython",
    "version": 3
   },
   "file_extension": ".py",
   "mimetype": "text/x-python",
   "name": "python",
   "nbconvert_exporter": "python",
   "pygments_lexer": "ipython3",
   "version": "3.7.3"
  }
 },
 "nbformat": 4,
 "nbformat_minor": 2
}
